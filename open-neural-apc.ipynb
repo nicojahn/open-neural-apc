{
 "cells": [
  {
   "cell_type": "markdown",
   "metadata": {},
   "source": [
    "# Tensorflow 2 implementation of open-neural-apc"
   ]
  },
  {
   "cell_type": "markdown",
   "metadata": {},
   "source": [
    "Copyright (c) 2020, Nico Jahn <br>\n",
    "All rights reserved."
   ]
  },
  {
   "cell_type": "code",
   "execution_count": null,
   "metadata": {},
   "outputs": [],
   "source": [
    "%load_ext autoreload\n",
    "%autoreload 2"
   ]
  },
  {
   "cell_type": "code",
   "execution_count": null,
   "metadata": {},
   "outputs": [],
   "source": [
    "%%bash\n",
    "# install and update required packages\n",
    "python3 -m pip install --upgrade pip -q\n",
    "python3 -m pip install -r requirements.txt -q\n",
    "\n",
    "# needed for the video output/investigation (not needed for training/testing)\n",
    "#apt-get -qq update && apt-get -qq install -y ffmpeg"
   ]
  },
  {
   "cell_type": "code",
   "execution_count": null,
   "metadata": {},
   "outputs": [],
   "source": [
    "from utils import loadConfig, prepare_env\n",
    "prepare_env()\n",
    "# read the config file\n",
    "# it includes more or less all hyperparameter used in the model and preprocessing/training step\n",
    "data_parameter, model_parameter, training_parameter = loadConfig(verbose=1)\n",
    "# Since I saved the data as \"uint8\" and the sensor is usually placed at a height of 2 meters\n",
    "#    the resolution should be just below 1cm\n",
    "#    but since the noise frames at the end of most sequences produce larger values, this might not be the case\n",
    "# The \"accuracy error niveau\" is the absolutely permissible difference so that a prediction \n",
    "#    on the label is still counted as correct (remember: it's a regression task)\n",
    "# The \"frame_stride\" parameter indicates which frames are used from the original sequence\n",
    "# The original sequences are at about 40 FPS. The model is trained with just 10 FPS\n",
    "# The \"safe_steps\" parameter is used to safe the model every \"safe steps\" epochs"
   ]
  },
  {
   "cell_type": "code",
   "execution_count": null,
   "metadata": {},
   "outputs": [],
   "source": [
    "# parsing command line arguments and overwriting config if those are supplied\n",
    "from argument_parser import parse_arguments, overwrite_config\n",
    "parsed_arguments, _ = parse_arguments()\n",
    "overwrite_config(parsed_arguments, data_parameter, model_parameter, training_parameter)"
   ]
  },
  {
   "cell_type": "code",
   "execution_count": null,
   "metadata": {
    "scrolled": true
   },
   "outputs": [],
   "source": [
    "''' Loading the training data '''\n",
    "from data_loader import DataLoader\n",
    "training_data = DataLoader(training_parameter, data_parameter['data'], \"training\")\n",
    "\n",
    "if len(training_data)>0:\n",
    "    ''' Creating a model and save the config'''\n",
    "    from napc import NeuralAPC\n",
    "    # create model from config\n",
    "    napc = NeuralAPC(model_parameter, training_parameter)\n",
    "    napc.compile()\n",
    "    napc.save()\n",
    "\n",
    "    # writing config file into model folder\n",
    "    import json\n",
    "    new_config = {\"data_parameter\": data_parameter, \"model_parameter\": model_parameter, \"training_parameter\": training_parameter}\n",
    "    config_path = napc.model_path + \"config.json\"\n",
    "    with open(config_path, 'w+') as config:\n",
    "        config.write(json.dumps(new_config, sort_keys=True, indent=2))\n",
    "    print(f'Model folder created and config saved: {config_path}')\n",
    "\n",
    "    '''Data generator initialization'''\n",
    "    from data_generator import DataGenerator\n",
    "    # this is class which preprocesses the training data every epoch\n",
    "    # it creates the necessary labels/bounds and augments the data\n",
    "    training_generator = DataGenerator(training_data, training_parameter)\n",
    "\n",
    "    ''' Training procedure'''\n",
    "    training_generator.on_epoch_end()\n",
    "    napc.model.fit(training_generator, epochs=training_parameter['epochs'],\n",
    "                   initial_epoch=napc.epoch, max_queue_size=training_generator.num_batches,\n",
    "                   workers=4, use_multiprocessing=False, callbacks=napc.callbacks)"
   ]
  },
  {
   "cell_type": "code",
   "execution_count": null,
   "metadata": {},
   "outputs": [],
   "source": [
    "''' For all of you which don't have the training data and just want to execute the notebooks '''\n",
    "if len(training_data)==0:\n",
    "    data_parameter, model_parameter, training_parameter = loadConfig('models/config.json',\n",
    "                                                                     verbose=False)\n",
    "    from napc import NeuralAPC\n",
    "    napc = NeuralAPC(model_parameter, training_parameter, restored=True)\n",
    "    # Loading the included model (it has no subdirectory)\n",
    "    napc.loadModel(10000,'models/')\n",
    "    # The model_path of the model is not 'models/', but the previously created subdirectory\n",
    "    # You could now train it further/save it/ etc."
   ]
  },
  {
   "cell_type": "code",
   "execution_count": null,
   "metadata": {},
   "outputs": [],
   "source": [
    "''' Produce videos on all validation sequences or just validate the model '''\n",
    "# de-/activate video creation\n",
    "create_vids = False\n",
    "\n",
    "# copy dict from training and modify the concatenation\n",
    "validation_parameter = training_parameter.copy()\n",
    "validation_parameter[\"concatenation_length\"] = 1\n",
    "\n",
    "# read the validation data\n",
    "from data_loader import DataLoader\n",
    "validation_data = DataLoader(validation_parameter, data_parameter['data'], \"validation\")\n",
    "\n",
    "# process them (i need the bounds in y for the accuracy and the videos)\n",
    "from data_generator import DataGenerator\n",
    "validation_generator = DataGenerator(validation_data, validation_parameter)\n",
    "\n",
    "# With training=False, no augmentation is applied to the input data\n",
    "# Therefore, results are the closest possible real-world setting\n",
    "validation_generator.on_epoch_end(training=False)\n",
    "\n",
    "import numpy as np\n",
    "from video_generator import createVideo\n",
    "from tqdm.notebook import trange, tqdm\n",
    "\n",
    "accuracy = []\n",
    "for batch_idx in trange(validation_generator.num_batches, desc='Batches done', unit='batches'):\n",
    "    # get batch, predict and calculate accuracy\n",
    "    x,y = validation_generator[batch_idx]\n",
    "    predictions = napc.model.predict_on_batch(x)\n",
    "    accuracy += [napc.accuracy(y, predictions)]\n",
    "    \n",
    "    # creates my videos\n",
    "    if create_vids:\n",
    "        # has to create the videos for every element\n",
    "        for sample_idx, prediction in enumerate(tqdm(predictions, desc='Videos created', leave=False, unit='videos')):\n",
    "            output_dimensions = model_parameter['output_dimensions']\n",
    "            \n",
    "            # mask/remove the padding if batched\n",
    "            binary_mask = (np.minimum(0, y[sample_idx,:,2*output_dimensions])+1).astype(bool)\n",
    "            input_sequence = tf.boolean_mask(x[sample_idx], binary_mask, axis=0)\n",
    "            pred = K.eval(tf.boolean_mask(prediction, binary_mask, axis=0))\n",
    "            lower_bound = tf.boolean_mask(y[sample_idx,:,0:output_dimensions],\n",
    "                                          binary_mask, axis=0)\n",
    "            upper_bound = tf.boolean_mask(y[sample_idx,:,output_dimensions:2*output_dimensions],\n",
    "                                          binary_mask, axis=0)\n",
    "\n",
    "            # if creating the video takes to long, you can adjust the default dpi=300 parameter\n",
    "            # napc.epoch and sample_idx are just used for the video name\n",
    "            # the other arguments are actually plotted in the video\n",
    "            video_index = validation_parameter[\"batch_size\"]*batch_idx+sample_idx\n",
    "            createVideo(napc.epoch, video_index, input_sequence, pred, lower_bound, upper_bound,\n",
    "                        model_parameter['input_dimensions'], class_names=data_parameter[\"class_names\"])"
   ]
  },
  {
   "cell_type": "code",
   "execution_count": null,
   "metadata": {},
   "outputs": [],
   "source": [
    "# Since I'm not allowed to upload more sequences and I don't want to publish a perfect model\n",
    "# (therefore, I haven't tested this one) the accuracy is just an approximation of the true capabilities\n",
    "# The 'validation' data in this case is in fact a test set (last epoch was chosen without selection)\n",
    "# In practice someone would use k-fold-CV and would reason about the average performance\n",
    "import numpy as np\n",
    "# So let's have a look how well the model does...\n",
    "print(f'Accuracy: {100*np.mean(accuracy)} %')"
   ]
  }
 ],
 "metadata": {
  "kernelspec": {
   "display_name": "Python 3",
   "language": "python",
   "name": "python3"
  },
  "language_info": {
   "codemirror_mode": {
    "name": "ipython",
    "version": 3
   },
   "file_extension": ".py",
   "mimetype": "text/x-python",
   "name": "python",
   "nbconvert_exporter": "python",
   "pygments_lexer": "ipython3",
   "version": "3.6.9"
  }
 },
 "nbformat": 4,
 "nbformat_minor": 4
}
