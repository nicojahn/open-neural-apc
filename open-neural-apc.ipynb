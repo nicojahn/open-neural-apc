{
 "cells": [
  {
   "cell_type": "markdown",
   "metadata": {},
   "source": [
    "# Tensorflow 2 implementation of open-neural-apc"
   ]
  },
  {
   "cell_type": "markdown",
   "metadata": {},
   "source": [
    "Copyright (c) 2020, Nico Jahn <br>\n",
    "All rights reserved."
   ]
  },
  {
   "cell_type": "code",
   "execution_count": null,
   "metadata": {},
   "outputs": [],
   "source": [
    "# extention to run neural-apc in google colab and retrieving all neccessary files\n",
    "import sys\n",
    "IN_COLAB = 'google.colab' in sys.modules\n",
    "if IN_COLAB:\n",
    "    !git clone https://github.com/nicojahn/open-neural-apc.git\n",
    "    import os\n",
    "    os.chdir('open-neural-apc')"
   ]
  },
  {
   "cell_type": "code",
   "execution_count": null,
   "metadata": {},
   "outputs": [],
   "source": [
    "%load_ext autoreload\n",
    "%autoreload 2"
   ]
  },
  {
   "cell_type": "code",
   "execution_count": null,
   "metadata": {},
   "outputs": [],
   "source": [
    "%%bash\n",
    "# install and update required packages\n",
    "python3 -m pip install --upgrade pip -q\n",
    "python3 -m pip install -r requirements.txt -q\n",
    "\n",
    "# just for the video output/investigation (not needed for training/testing)\n",
    "apt-get -qq update && apt-get -qq install -y ffmpeg"
   ]
  },
  {
   "cell_type": "code",
   "execution_count": null,
   "metadata": {},
   "outputs": [],
   "source": [
    "from utils import loadConfig, allow_growth\n",
    "# read the config file\n",
    "# it includes more or less all hyperparameter used in the model and preprocessing/training step\n",
    "data_parameter, model_parameter, training_parameter = loadConfig(verbose=1)\n",
    "# Since I saved the data as \"uint8\" and the sensor is usually placed at a height of 2 meters\n",
    "#    the resolution should be just below 1cm\n",
    "#    but since the noise frames at the end of most sequences produce larger values, this might not be the case\n",
    "# The \"accuracy error niveau\" is the absolutely permissible difference so that a prediction \n",
    "#    on the label is still counted as correct (remember: it's a regression task)\n",
    "# The \"frame_stride\" parameter indicates which frames are used from the original sequence\n",
    "# The original sequences are at about 40 FPS. The model is trained with just 10 FPS\n",
    "# The \"pretrain\" parameter is not used so far but could be utilized with a pretraining of the input layer\n",
    "# The \"safe_steps\" parameter is used to safe the model every \"safe steps\" epochs"
   ]
  },
  {
   "cell_type": "code",
   "execution_count": null,
   "metadata": {},
   "outputs": [],
   "source": [
    "# parsing command line arguments and overwriting config if those are supplied\n",
    "from argument_parser import parse_arguments, overwrite_config\n",
    "parsed_arguments, _ = parse_arguments()\n",
    "overwrite_config(parsed_arguments, model_parameter, training_parameter)"
   ]
  },
  {
   "cell_type": "code",
   "execution_count": null,
   "metadata": {},
   "outputs": [],
   "source": [
    "# switching between the gpus\n",
    "import os\n",
    "os.environ['TF_CPP_MIN_LOG_LEVEL'] = '3'\n",
    "#os.environ[\"CUDA_VISIBLE_DEVICES\"] = '0'\n",
    "# disable annoying tf warnings (retracing etc.)\n",
    "import tensorflow as tf\n",
    "tf.get_logger().setLevel('ERROR')\n",
    "# enable GPU memory growth\n",
    "allow_growth()"
   ]
  },
  {
   "cell_type": "code",
   "execution_count": null,
   "metadata": {},
   "outputs": [],
   "source": [
    "# enable effcient data processing\n",
    "sequence_dtype = data_parameter[\"sequence_dtype\"]\n",
    "labels_dtype = data_parameter[\"labels_dtype\"]\n",
    "calculation_dtype = training_parameter[\"calculation_dtype\"]\n",
    "calculation_epsilon = training_parameter[\"calculation_epsilon\"]\n",
    "\n",
    "# enable single/half/double precision\n",
    "import tensorflow.keras.backend as K\n",
    "K.set_floatx(calculation_dtype)\n",
    "K.set_epsilon(calculation_epsilon)\n",
    "\n",
    "# enable mixed precission\n",
    "if 'float16' in calculation_dtype:\n",
    "    from tensorflow.keras.mixed_precision import experimental as mixed_precision\n",
    "    policy = mixed_precision.Policy('mixed_float16')\n",
    "    mixed_precision.set_policy(policy)"
   ]
  },
  {
   "cell_type": "code",
   "execution_count": null,
   "metadata": {
    "scrolled": true
   },
   "outputs": [],
   "source": [
    "import os\n",
    "import os.path as path\n",
    "mode = \"training\"\n",
    "data_path = path.join(data_parameter['data_directory'], f'{mode}.dat')\n",
    "lengths_path = path.join(data_parameter['data_directory'], f'{mode}_meta.dat')\n",
    "\n",
    "# This one solves the problem for all of you, which just click 'Run all' and expect it to work\n",
    "# Since the training data is not uploaded 'on purpose', the code would usually break for most people\n",
    "# If the file does not exists, the code immediately jumps to the point, where it loads the predefined model and evaluates it\n",
    "# Elsewise it trains the model and evalutes the newly trained\n",
    "data_exists = os.path.isfile(data_path)"
   ]
  },
  {
   "cell_type": "code",
   "execution_count": null,
   "metadata": {
    "scrolled": true
   },
   "outputs": [],
   "source": [
    "''' Whole training procedure: including data loading, preprocessing, model creation, training'''\n",
    "if data_exists:\n",
    "    \n",
    "    ''' Loading the training data '''\n",
    "    from data_loader import DataLoader\n",
    "    # due to the expertise of github.com/xor2k, I switched from CSV to memory-mapped files.\n",
    "    # This reduces the loading/mapping time by a lot.\n",
    "    # The sequence_list is a list containing all sequences for training (The sequences have the shape of Tx20x25)\n",
    "    # all sequences are differently long and are normalized in the range between 0. and 1., they have the dtype 'sequence_dtype'\n",
    "    # The labels_list is a list with all the labels for training in the same order as the sequence_list is.\n",
    "    # The shape of each label is 2 --> Therefore, the list could have the shape Nx2 as array. The labels have dtype 'labels_dtype'\n",
    "    data = DataLoader(model_parameter, training_parameter, data_path, lengths_path,\n",
    "                      sequence_dtype, labels_dtype)\n",
    "    # Similar to my bachelors thesis the training data is just about 1500 sequences\n",
    "    # (Not necessarily the same ones/ haven't checked it)\n",
    "\n",
    "    ''' Creating a model and save the config'''\n",
    "    from napc import NeuralAPC\n",
    "    \n",
    "    # create model from config\n",
    "    napc = NeuralAPC(model_parameter, training_parameter)\n",
    "    napc.compile()\n",
    "    napc.save()\n",
    "    \n",
    "    # writing config file into model folder\n",
    "    import json\n",
    "    new_config = {\"data_parameter\": data_parameter, \"model_parameter\": model_parameter, \"training_parameter\": training_parameter}\n",
    "    config_path = napc.model_path + \"config.json\"\n",
    "    with open(config_path, 'w+') as config:\n",
    "        config.write(json.dumps(new_config, sort_keys=True, indent=2))\n",
    "    print(f'Model folder created and config saved: {config_path}')\n",
    "    \n",
    "    '''Data generator initialization'''\n",
    "    from data_generator import DataGenerator\n",
    "    # this is class which preprocesses the training data every epoch\n",
    "    # it creates the necessary labels/bounds and augments the data\n",
    "    generator = DataGenerator(data, data_parameter[\"input_scaling_factor\"],\n",
    "                              training_parameter, calculation_dtype)\n",
    "    \n",
    "    ''' Training procedure'''\n",
    "    from callbacks import StoppingAfterWarmup, IncreaseEpochCustom, SaveEveryNthEpochCustom\n",
    "\n",
    "    callbacks = []\n",
    "    callbacks += [IncreaseEpochCustom(napc)]\n",
    "    callbacks += [SaveEveryNthEpochCustom(napc, training_parameter['safe_steps'])]\n",
    "    # tensorboard callback\n",
    "    callbacks += [tf.keras.callbacks.TensorBoard(log_dir=napc.model_path+'/logs',\n",
    "                                                 histogram_freq=0, write_graph=True,\n",
    "                                                 write_images=False, update_freq='epoch',\n",
    "                                                 profile_batch=0, embeddings_freq=0, \n",
    "                                                 embeddings_metadata=None)]\n",
    "    callbacks += [StoppingAfterWarmup()]\n",
    "    generator.on_epoch_end()\n",
    "    napc.model.fit(generator, epochs=training_parameter['epochs'],\n",
    "                   initial_epoch=napc.epoch, max_queue_size=generator.num_batches,\n",
    "                   workers=4, use_multiprocessing=False, callbacks=callbacks)\n",
    "    # the training took about 12-16 hours on a 2080TI while occupying less than 3GB VRAM and 80% GPU-Util.\n",
    "    # always depending on the LSTM implementation (CPU/GPU/CUDNN_TF1/CUDNN_TF2), the precision and data preparation\n",
    "    # got my fastest time per epoch training performance with 16bit(half->mixed) precision, CUDNN v1 implementation (without Dropout),\n",
    "    #   batchsize divisible by 16 (larger is not always better) and lstm layer width divisible by 32"
   ]
  },
  {
   "cell_type": "code",
   "execution_count": null,
   "metadata": {},
   "outputs": [],
   "source": [
    "''' For all of you which don't have the training data and just want to execute the notebooks '''\n",
    "if not data_exists:\n",
    "    data_parameter, model_parameter, training_parameter = loadConfig('models/config.json',\n",
    "                                                                     verbose=False)\n",
    "    from napc import NeuralAPC\n",
    "    napc = NeuralAPC(model_parameter, training_parameter, restored=True)\n",
    "    # Loading the included model (it has no subdirectory)\n",
    "    napc.loadModel(10000,'models/')\n",
    "    # The model_path of the model is not 'models/', but the previously created subdirectory\n",
    "    # You could now train it further/save it/ etc."
   ]
  },
  {
   "cell_type": "code",
   "execution_count": null,
   "metadata": {},
   "outputs": [],
   "source": [
    "''' Produce videos on all validation sequences or just validate the model '''\n",
    "import os.path as path\n",
    "mode = \"validation\"\n",
    "data_path = path.join(data_parameter['data_directory'], f'{mode}.dat')\n",
    "lengths_path = path.join(data_parameter['data_directory'], f'{mode}_meta.dat')\n",
    "\n",
    "# de-/activate video creation\n",
    "create_vids = False\n",
    "\n",
    "# copy dict from training and modify the concatenation\n",
    "validation_parameter = training_parameter.copy()\n",
    "validation_parameter[\"concatenation_length\"] = 1\n",
    "\n",
    "# read the validation data\n",
    "from data_loader import DataLoader\n",
    "data = DataLoader(model_parameter, validation_parameter, data_path, lengths_path,\n",
    "                  sequence_dtype, labels_dtype)\n",
    "\n",
    "# process them (i need the bounds in y for the accuracy and the videos)\n",
    "from data_generator import DataGenerator\n",
    "validation_generator = DataGenerator(data, data_parameter[\"input_scaling_factor\"], validation_parameter,\n",
    "                                     calculation_dtype)\n",
    "# With training=False, no augmentation is applied to the input data\n",
    "# Therefore, results are the closest possible real-world setting\n",
    "validation_generator.on_epoch_end(training=False)\n",
    "\n",
    "import numpy as np\n",
    "from video_generator import createVideo\n",
    "from tqdm.notebook import trange, tqdm\n",
    "\n",
    "accuracy = []\n",
    "for batch_idx in trange(validation_generator.num_batches, desc='Batches done', unit='batches'):\n",
    "    # get batch, predict and calculate accuracy\n",
    "    x,y = validation_generator[batch_idx]\n",
    "    predictions = napc.model.predict_on_batch(x)\n",
    "    accuracy += [K.eval(napc.accuracy(y, predictions))]\n",
    "    \n",
    "    # creates my videos\n",
    "    if create_vids:\n",
    "        # has to create the videos for every element\n",
    "        for sample_idx, prediction in enumerate(tqdm(predictions, desc='Videos created', leave=False, unit='videos')):\n",
    "            output_dimensions = model_parameter['output_dimensions']\n",
    "            \n",
    "            # mask/remove the padding if batched\n",
    "            binary_mask = (np.minimum(0, y[sample_idx,:,2*output_dimensions])+1).astype(bool)\n",
    "            input_sequence = tf.boolean_mask(x[sample_idx], binary_mask, axis=0)\n",
    "            pred = K.eval(tf.boolean_mask(prediction, binary_mask, axis=0))\n",
    "            lower_bound = tf.boolean_mask(y[sample_idx,:,0:output_dimensions],\n",
    "                                          binary_mask, axis=0)\n",
    "            upper_bound = tf.boolean_mask(y[sample_idx,:,output_dimensions:2*output_dimensions],\n",
    "                                          binary_mask, axis=0)\n",
    "\n",
    "            # if creating the video takes to long, you can adjust the default dpi=300 parameter\n",
    "            # napc.epoch and sample_idx are just used for the video name\n",
    "            # the other arguments are actually plotted in the video\n",
    "            video_index = validation_parameter[\"batch_size\"]*batch_idx+sample_idx\n",
    "            createVideo(napc.epoch, video_index, input_sequence, pred, lower_bound, upper_bound,\n",
    "                        model_parameter['input_dimensions'], class_names=data_parameter[\"class_names\"])"
   ]
  },
  {
   "cell_type": "code",
   "execution_count": null,
   "metadata": {},
   "outputs": [],
   "source": [
    "# Since I'm not allowed to upload more sequences and I don't want to publish a perfect model\n",
    "# (therefore, I haven't tested this one) the accuracy is just an approximation of the true capabilities\n",
    "# The 'validation' data in this case is in fact a test set (last epoch was chosen without selection)\n",
    "# In practice someone would use k-fold-CV and would reason about the average performance\n",
    "import numpy as np\n",
    "# So let's have a look how well the model does...\n",
    "print(f'{mode} accuracy: {100*np.mean(accuracy)} %')"
   ]
  }
 ],
 "metadata": {
  "kernelspec": {
   "display_name": "Python 3",
   "language": "python",
   "name": "python3"
  },
  "language_info": {
   "codemirror_mode": {
    "name": "ipython",
    "version": 3
   },
   "file_extension": ".py",
   "mimetype": "text/x-python",
   "name": "python",
   "nbconvert_exporter": "python",
   "pygments_lexer": "ipython3",
   "version": "3.6.9"
  }
 },
 "nbformat": 4,
 "nbformat_minor": 4
}
