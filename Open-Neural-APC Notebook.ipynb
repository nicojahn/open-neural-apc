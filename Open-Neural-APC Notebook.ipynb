{
 "cells": [
  {
   "cell_type": "markdown",
   "metadata": {},
   "source": [
    "# Open-Neural-APC as Tensorflow 2 implementation"
   ]
  },
  {
   "cell_type": "code",
   "execution_count": 1,
   "metadata": {},
   "outputs": [],
   "source": [
    "# install and update required packages\n",
    "!pip install --upgrade pip -q\n",
    "# if you use tensorflow in a docker container:\n",
    "#   comment 'tensorflow' from the 'requirements.txt' with a '#' otherwise cudnn lstm won't be available\n",
    "!pip install --upgrade -r requirements.txt -q\n",
    "\n",
    "# just for the video output/investigation (not necessary for training/testing)\n",
    "!pip install --upgrade -r optionals.txt -q\n",
    "# this is also optional, since it is needed for opencv\n",
    "!apt-get -qq update && apt-get -qq install -y libsm6 libxext6 libxrender1 libfontconfig1"
   ]
  },
  {
   "cell_type": "code",
   "execution_count": 9,
   "metadata": {},
   "outputs": [
    {
     "name": "stdout",
     "output_type": "stream",
     "text": [
      "{\n",
      "  \"data parameter\": {\n",
      "    \"data directory\": \"./data/\",\n",
      "    \"input scaling factor\": 255,\n",
      "    \"labels dtype\": \"uint32\",\n",
      "    \"sequence dtype\": \"uint8\",\n",
      "    \"training label\": \"train.csv\",\n",
      "    \"validation label\": \"valid.csv\"\n",
      "  },\n",
      "  \"model parameter\": {\n",
      "    \"input dimensions\": [\n",
      "      20,\n",
      "      25\n",
      "    ],\n",
      "    \"lstm depth\": 5,\n",
      "    \"lstm width\": 50,\n",
      "    \"output dimensions\": 2\n",
      "  },\n",
      "  \"training parameter\": {\n",
      "    \"accuracy error niveau\": 0.5,\n",
      "    \"aux scale\": 3,\n",
      "    \"batch size\": 16,\n",
      "    \"calculation dtype\": \"float16\",\n",
      "    \"calculation epsilon\": 1e-07,\n",
      "    \"dropout rate\": 0.2,\n",
      "    \"epochs\": 10000,\n",
      "    \"jump input frames\": 4,\n",
      "    \"learning rate\": 0.001,\n",
      "    \"maximum concatenation\": 5,\n",
      "    \"minimum concatenation\": 5,\n",
      "    \"optimizer clip parameter\": [\n",
      "      1.0,\n",
      "      2.0\n",
      "    ],\n",
      "    \"optimizer parameter\": [\n",
      "      0.9,\n",
      "      0.999,\n",
      "      1e-07\n",
      "    ],\n",
      "    \"pretrain\": false,\n",
      "    \"restrict dataset size\": 1500,\n",
      "    \"safe steps\": 5\n",
      "  }\n",
      "}\n"
     ]
    }
   ],
   "source": [
    "from utils import loadConfig, allow_growth\n",
    "from tqdm import tqdm\n",
    "# read the config file\n",
    "# it includes more or less all hyperparameter used in the model and preprocessing/training step\n",
    "data_parameter, model_parameter, training_parameter = loadConfig()\n",
    "# Since I saved the data as \"uint8\" and the sensor is usually placed at a height of 2 meters\n",
    "#    the resolution should be just below 1cm\n",
    "#    but since the noise frames at the end of most sequences produce larger values, this might not be the case\n",
    "# The \"accuracy error niveau\" is the absolutely permissible difference so that a prediction \n",
    "#    on the label is still counted as correct (remember: it's a regression task)\n",
    "# The \"jump input frames\" parameter indicates which frames are used from the original sequence\n",
    "# The original sequences are at about 40 FPS. The model is trained with just 10 FPS\n",
    "# The \"pretrain\" parameter is not used so far but could be utilized with a pretraining of the input layer\n",
    "# The \"safe steps\" parameter was used for the non-jupyter version to safe the model every 5 epochs\n",
    "\n",
    "# switching between the gpus\n",
    "import os\n",
    "os.environ['TF_CPP_MIN_LOG_LEVEL'] = '3'\n",
    "# os.environ[\"CUDA_VISIBLE_DEVICES\"] = \"1\"\n",
    "# disable annoying tf warnings (retracing etc.)\n",
    "import tensorflow as tf\n",
    "tf.get_logger().setLevel('ERROR')\n",
    "# enable GPU memory growth\n",
    "allow_growth()"
   ]
  },
  {
   "cell_type": "code",
   "execution_count": 10,
   "metadata": {},
   "outputs": [],
   "source": [
    "# enable effcient data processing\n",
    "sequence_dtype = data_parameter[\"sequence dtype\"]\n",
    "labels_dtype = data_parameter[\"labels dtype\"]\n",
    "calculation_dtype = training_parameter[\"calculation dtype\"]\n",
    "calculation_epsilon = training_parameter[\"calculation epsilon\"]\n",
    "\n",
    "# enable single/half/double precision\n",
    "import tensorflow.keras.backend as K\n",
    "K.set_floatx(calculation_dtype)\n",
    "K.set_epsilon(calculation_epsilon)\n",
    "\n",
    "# enable mixed precission\n",
    "if 'float16' in calculation_dtype:\n",
    "    from tensorflow.keras.mixed_precision import experimental as mixed_precision\n",
    "    policy = mixed_precision.Policy('mixed_float16')#, loss_scale=1024)\n",
    "    mixed_precision.set_policy(policy)\n",
    "\n",
    "\n",
    "import numpy as np\n",
    "# scale saved input into a normed range \n",
    "input_scaling_factor = np.asarray(data_parameter[\"input scaling factor\"],dtype=calculation_dtype)"
   ]
  },
  {
   "cell_type": "code",
   "execution_count": 11,
   "metadata": {},
   "outputs": [
    {
     "name": "stdout",
     "output_type": "stream",
     "text": [
      "Config saved under ./models/2020-06-15_01:03:30.703083/config.json\n"
     ]
    }
   ],
   "source": [
    "from napc import NeuralAPC\n",
    "\n",
    "# First step into using multiple GPU's at once\n",
    "# Needs adaption of batch size and learning rate (for optimal performance)\n",
    "# The inference for video creation hat some problems with the distributed strategy\n",
    "#strategy = tf.distribute.MirroredStrategy().scope()\n",
    "#strategy = tf.distribute.experimental.CentralStorageStrategy().scope()\n",
    "strategy = tf.init_scope() # Use again only 1 GPU\n",
    "with strategy:\n",
    "    # This is the pure model. It's almost the same as in my bachelors thesis\n",
    "    # The only difference is an additional loss (auxiliary loss) and a dropout layer after the first dense layer\n",
    "    # Elsewise it's the same architecture, same optimizer, same 'main' loss\n",
    "    napc = NeuralAPC(model_parameter,training_parameter)\n",
    "    napc.compile()\n",
    "    napc.save()\n",
    "\n",
    "# copy config into model folder\n",
    "import shutil\n",
    "config_path = shutil.copy2('config.json', napc.model_path)\n",
    "print(f'Config saved under {config_path}')"
   ]
  },
  {
   "cell_type": "code",
   "execution_count": 12,
   "metadata": {
    "scrolled": true
   },
   "outputs": [
    {
     "name": "stdout",
     "output_type": "stream",
     "text": [
      "Started reading files: 01:03:32 2020-06-15\n",
      "Finished reading 1499 sequences. Took 1.430000 seconds.\n"
     ]
    }
   ],
   "source": [
    "import os\n",
    "import os.path as path\n",
    "mode = \"training\"\n",
    "data = path.join(data_parameter['data directory'], f'{mode}.dat')\n",
    "data_lengths = path.join(data_parameter['data directory'], f'{mode}_meta.dat')\n",
    "\n",
    "# This one solves the problem for all of you, which just click 'Run all' and expect it to work\n",
    "# Since the training data is not uploaded 'on purpose', the code would usually break for most people\n",
    "# If the file does not exists, the code immediately jumps to the point, where it loads the 'predefined' model and evaluates it\n",
    "# Elsewise it trains the model and evalutes the newly trained\n",
    "data_exists = os.path.isfile(data)\n",
    "\n",
    "sequence_list = labels_list = None\n",
    "\n",
    "if data_exists:\n",
    "    from data_loader import readData\n",
    "    # due to the expertise of github.com/xor2k, I switched from CSV to memory-mapped files.\n",
    "    # This reduces the loading/mapping time by a lot.\n",
    "    # The sequence_list is a list containing all sequences for training (The sequences have the shape of Tx20x25)\n",
    "    # all sequences are differently long and are normalized in the range between 0. and 1., they have the dtype 'sequence_dtype'\n",
    "    # The labels_list is a list with all the labels for training in the same order as the sequence_list is.\n",
    "    # The shape of each label is 2 --> Therefore, the list could have the shape Nx2 as array. The labels have dtype 'labels_dtype'\n",
    "    sequence_list, labels_list = readData(model_parameter,training_parameter,data,data_lengths,sequence_dtype,labels_dtype)\n",
    "    # Similar to my bachelors thesis I used just about 1500 sequences (Not necessarily the same ones/ haven't checked it)\n",
    "    # Not necessary for other people or experiments\n",
    "    sequence_list, labels_list = sequence_list[:training_parameter[\"restrict dataset size\"]], labels_list[:training_parameter[\"restrict dataset size\"]]"
   ]
  },
  {
   "cell_type": "code",
   "execution_count": 13,
   "metadata": {
    "scrolled": true
   },
   "outputs": [],
   "source": [
    "from data_processing import Preprocess\n",
    "preprocessor = None\n",
    "if data_exists:\n",
    "    # this is class which preprocesses the training data every epoch\n",
    "    # it creates the necessary labels/bounds and augments the data\n",
    "    preprocessor = Preprocess(sequence_list,labels_list,input_scaling_factor,training_parameter,calculation_dtype)"
   ]
  },
  {
   "cell_type": "code",
   "execution_count": 15,
   "metadata": {
    "scrolled": false
   },
   "outputs": [
    {
     "ename": "AttributeError",
     "evalue": "module 'tensorflow' has no attribute 'dtype'",
     "output_type": "error",
     "traceback": [
      "\u001b[0;31m---------------------------------------------------------------------------\u001b[0m",
      "\u001b[0;31mAttributeError\u001b[0m                            Traceback (most recent call last)",
      "\u001b[0;32m<ipython-input-15-e1db989c1ae6>\u001b[0m in \u001b[0;36m<module>\u001b[0;34m\u001b[0m\n\u001b[1;32m     32\u001b[0m \u001b[0;34m\u001b[0m\u001b[0m\n\u001b[1;32m     33\u001b[0m     \u001b[0;31m# tf.dtype\u001b[0m\u001b[0;34m\u001b[0m\u001b[0;34m\u001b[0m\u001b[0;34m\u001b[0m\u001b[0m\n\u001b[0;32m---> 34\u001b[0;31m     \u001b[0mds\u001b[0m \u001b[0;34m=\u001b[0m \u001b[0mtf\u001b[0m\u001b[0;34m.\u001b[0m\u001b[0mdata\u001b[0m\u001b[0;34m.\u001b[0m\u001b[0mDataset\u001b[0m\u001b[0;34m.\u001b[0m\u001b[0mfrom_generator\u001b[0m\u001b[0;34m(\u001b[0m\u001b[0mgenerator\u001b[0m\u001b[0;34m,\u001b[0m\u001b[0;34m(\u001b[0m\u001b[0mtf\u001b[0m\u001b[0;34m.\u001b[0m\u001b[0mdtype\u001b[0m\u001b[0;34m(\u001b[0m\u001b[0mcalculation_dtype\u001b[0m\u001b[0;34m)\u001b[0m\u001b[0;34m,\u001b[0m \u001b[0mtf\u001b[0m\u001b[0;34m.\u001b[0m\u001b[0mdtype\u001b[0m\u001b[0;34m(\u001b[0m\u001b[0mcalculation_dtype\u001b[0m\u001b[0;34m)\u001b[0m\u001b[0;34m)\u001b[0m\u001b[0;34m,\u001b[0m\u001b[0;34m)\u001b[0m\u001b[0;34m\u001b[0m\u001b[0;34m\u001b[0m\u001b[0m\n\u001b[0m\u001b[1;32m     35\u001b[0m     napc.model.fit(ds,epochs=training_parameter['epochs'],initial_epoch=napc.epoch,\\\n\u001b[1;32m     36\u001b[0m                    max_queue_size=5, workers=3, use_multiprocessing=False, callbacks=callbacks)\n",
      "\u001b[0;31mAttributeError\u001b[0m: module 'tensorflow' has no attribute 'dtype'"
     ]
    }
   ],
   "source": [
    "from optional_features import customPlot\n",
    "# train\n",
    "if data_exists:\n",
    "    \n",
    "    # switching to 'better' generators in the near future\n",
    "    # TODO: use/implement a more sophisticated generator\n",
    "    def generator():\n",
    "        for x, y in list(zip(*preprocessor.prepareEpoch())):\n",
    "            yield x, y\n",
    "    \n",
    "\n",
    "    callbacks = []\n",
    "    # Done: add custom callback for increasing the napc.epoch\n",
    "    callbacks += [napc.IncreaseEpochCustom(napc)]\n",
    "    # Done: callback which calls the napc.save() (or use the keras build-in callback)\n",
    "    callbacks += [tf.keras.callbacks.ModelCheckpoint(napc.model_path+'weights.{epoch:05d}.hdf5', monitor='val_loss', \\\n",
    "                                                     verbose=0, save_best_only=False, save_weights_only=True, \\\n",
    "                                                     mode='auto', save_freq=training_parameter[\"safe steps\"])]\n",
    "    # Done: Add tensorboard callback\n",
    "    callbacks += [tf.keras.callbacks.TensorBoard(log_dir=napc.model_path+'/logs', histogram_freq=0, write_graph=True, \\\n",
    "                                                 write_images=False, update_freq='epoch', profile_batch=2, \\\n",
    "                                                 embeddings_freq=0, embeddings_metadata=None)]\n",
    "    # Done: add custom callback for creating the plots\n",
    "    '''\n",
    "    try: \n",
    "        callbacks += [customPlot(preprocessor,napc,plot_freq=1000)]\n",
    "    except ValueError:\n",
    "        pass\n",
    "    '''\n",
    "    \n",
    "    # TODO: either test the TF 2.2 profiler or use again a stop watch to see the slowest processes\n",
    "    \n",
    "    # np.dtype(<some dtype>) is compatible with tf.<some dtype>\n",
    "    ds = tf.data.Dataset.from_generator(generator,(np.dtype(calculation_dtype), np.dtype(calculation_dtype)),)\n",
    "    napc.model.fit(ds,epochs=training_parameter['epochs'],initial_epoch=napc.epoch,\\\n",
    "                   max_queue_size=5, workers=3, use_multiprocessing=False, callbacks=callbacks)\n",
    "    \n",
    "    # the output of this cell are metrics every 100th epoch and a plot of the counting behaviour every 1000th epoch\n",
    "    # (*)the training took about 10 hours on a 2080TI while occupying less than 2GB VRAM and 80% GPU-Util.\n",
    "    # * in the latest TF updates the GPU got significantly slower/more inefficient (even slower than a 75 Watt NVIDIA P2000)\n",
    "    #   now using even less than 50% GPU utilization for the 2080TI while being slower"
   ]
  },
  {
   "cell_type": "code",
   "execution_count": null,
   "metadata": {},
   "outputs": [],
   "source": [
    "# For all of you which don't have the training data and just want to execute it\n",
    "if not data_exists:\n",
    "    data_parameter, model_parameter, training_parameter = loadConfig('models/config.json',verbose=False)\n",
    "    napc = NeuralAPC(model_parameter,training_parameter)\n",
    "    # Loading the included model (it has no subdirectory)\n",
    "    napc.loadModel(10000,'models/')\n",
    "    # The model_path of the model is not 'models/', but the previously created subdirectory\n",
    "    # You could now train it further/save it/ etc."
   ]
  },
  {
   "cell_type": "code",
   "execution_count": null,
   "metadata": {},
   "outputs": [],
   "source": [
    "# produce videos on all validation sequences\n",
    "import os.path as path\n",
    "mode = \"validation\"\n",
    "data = path.join(data_parameter['data directory'], f'{mode}.dat')\n",
    "data_lengths = path.join(data_parameter['data directory'], f'{mode}_meta.dat')\n",
    "\n",
    "# de-/activate video creation\n",
    "create_vids = False\n",
    "\n",
    "# copy dict from training and modify the concatenation and batch size\n",
    "validation_parameter = training_parameter.copy()\n",
    "validation_parameter[\"minimum concatenation\"] = 1\n",
    "validation_parameter[\"maximum concatenation\"] = 1\n",
    "# validation_parameter[\"batch size\"]=1\n",
    "\n",
    "# read the validation data\n",
    "from data_loader import readData\n",
    "sequence_list, labels_list = readData(model_parameter,validation_parameter,data,data_lengths,sequence_dtype,labels_dtype)\n",
    "\n",
    "# process them (i need the bounds in y for the accuracy and the videos)\n",
    "from data_processing import Preprocess\n",
    "preprocessor = Preprocess(sequence_list,labels_list,input_scaling_factor,validation_parameter,calculation_dtype)\n",
    "X,Y = preprocessor.prepareEpoch(training=False)\n",
    "\n",
    "# create my videos\n",
    "from optional_features import createVideo\n",
    "accuracy = []\n",
    "for batch_idx,x,y in list(zip(range(len(X)),X,Y)):\n",
    "    predictions = napc.model.predict_on_batch(x)\n",
    "    if create_vids:\n",
    "        for sample_idx, prediction in enumerate(predictions):\n",
    "            binary_mask = (np.minimum(0,y[sample_idx,:,4])+1).astype(bool)\n",
    "            createVideo(napc.epoch,idx,x[sample_idx,binary_mask], \\\n",
    "                                        K.eval(prediction[binary_mask]), \\\n",
    "                                        y[sample_idx,binary_mask,0:2], \\\n",
    "                                        y[sample_idx,binary_mask,2:4])\n",
    "    accuracy += [K.eval(napc.accuracy(y,predictions))]"
   ]
  },
  {
   "cell_type": "code",
   "execution_count": null,
   "metadata": {},
   "outputs": [],
   "source": [
    "# Since I'm not allowed to upload more sequences and I don't want to publish a perfect model\n",
    "# (therefore, I haven't tested this one) the accuracy is just an approximation of the true capabilities\n",
    "# The 'validation' data in this case is in fact a test set (last epoch was chosen without selection)\n",
    "# In practice someone would use k-Fold-Crossvalidation and would reason about the average performance\n",
    "\n",
    "# So let's have a look how well the model does...\n",
    "print(f'{mode} accuracy: {100*np.mean(accuracy)} %')"
   ]
  },
  {
   "cell_type": "code",
   "execution_count": null,
   "metadata": {},
   "outputs": [],
   "source": []
  }
 ],
 "metadata": {
  "kernelspec": {
   "display_name": "Python 3",
   "language": "python",
   "name": "python3"
  },
  "language_info": {
   "codemirror_mode": {
    "name": "ipython",
    "version": 3
   },
   "file_extension": ".py",
   "mimetype": "text/x-python",
   "name": "python",
   "nbconvert_exporter": "python",
   "pygments_lexer": "ipython3",
   "version": "3.6.9"
  }
 },
 "nbformat": 4,
 "nbformat_minor": 4
}
