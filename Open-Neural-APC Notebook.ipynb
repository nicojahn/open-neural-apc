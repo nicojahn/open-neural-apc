{
 "cells": [
  {
   "cell_type": "markdown",
   "metadata": {},
   "source": [
    "# Tensorflow 2 implementation of Open-Neural-APC"
   ]
  },
  {
   "cell_type": "code",
   "execution_count": 1,
   "metadata": {},
   "outputs": [],
   "source": [
    "# extention to run neural-apc in google colab and retrieving all neccessary files\n",
    "import sys\n",
    "IN_COLAB = 'google.colab' in sys.modules\n",
    "if IN_COLAB:\n",
    "    !git clone https://github.com/nicojahn/open-neural-apc.git\n",
    "    !rsync -a open-neural-apc/* ./"
   ]
  },
  {
   "cell_type": "code",
   "execution_count": 2,
   "metadata": {},
   "outputs": [],
   "source": [
    "%load_ext autoreload\n",
    "%autoreload 2"
   ]
  },
  {
   "cell_type": "code",
   "execution_count": 3,
   "metadata": {},
   "outputs": [],
   "source": [
    "%%bash\n",
    "# install and update required packages\n",
    "python3 -m pip install --upgrade pip -q\n",
    "python3 -m pip install --upgrade -r requirements.txt -q\n",
    "\n",
    "# just for the video output/investigation (not necessary for training/testing)\n",
    "python3 -m pip install --upgrade -r optionals.txt -q\n",
    "\n",
    "# this is also optional, since it is only needed for opencv videos\n",
    "apt-get -qq update && apt-get -qq install -y libsm6 libxext6 libxrender1 libfontconfig1 libgl1-mesa-glx"
   ]
  },
  {
   "cell_type": "code",
   "execution_count": 4,
   "metadata": {},
   "outputs": [
    {
     "name": "stdout",
     "output_type": "stream",
     "text": [
      "{\n",
      "  \"data parameter\": {\n",
      "    \"data directory\": \"./data/\",\n",
      "    \"input scaling factor\": 255,\n",
      "    \"labels dtype\": \"uint32\",\n",
      "    \"sequence dtype\": \"uint8\"\n",
      "  },\n",
      "  \"model parameter\": {\n",
      "    \"bidirectional\": true,\n",
      "    \"input dimensions\": [\n",
      "      20,\n",
      "      25\n",
      "    ],\n",
      "    \"lstm depth\": 5,\n",
      "    \"lstm width\": 64,\n",
      "    \"merge_mode\": \"sum\",\n",
      "    \"output dimensions\": 2\n",
      "  },\n",
      "  \"training parameter\": {\n",
      "    \"accuracy error niveau\": 0.5,\n",
      "    \"aux scale\": 3,\n",
      "    \"batch size\": 32,\n",
      "    \"calculation dtype\": \"float16\",\n",
      "    \"calculation epsilon\": 1e-07,\n",
      "    \"dropout rate\": 0.2,\n",
      "    \"epochs\": 5000,\n",
      "    \"jump input frames\": 4,\n",
      "    \"learning rate\": 0.001,\n",
      "    \"maximum concatenation\": 5,\n",
      "    \"minimum concatenation\": 5,\n",
      "    \"optimizer clip parameter\": [\n",
      "      1.0,\n",
      "      2.0\n",
      "    ],\n",
      "    \"optimizer parameter\": [\n",
      "      0.9,\n",
      "      0.999,\n",
      "      1e-07\n",
      "    ],\n",
      "    \"pretrain\": false,\n",
      "    \"restrict dataset size\": 1500,\n",
      "    \"safe steps\": 5,\n",
      "    \"v1RNN\": false\n",
      "  }\n",
      "}\n"
     ]
    }
   ],
   "source": [
    "from utils import loadConfig, allow_growth\n",
    "from tqdm import tqdm\n",
    "# read the config file\n",
    "# it includes more or less all hyperparameter used in the model and preprocessing/training step\n",
    "data_parameter, model_parameter, training_parameter = loadConfig()\n",
    "# Since I saved the data as \"uint8\" and the sensor is usually placed at a height of 2 meters\n",
    "#    the resolution should be just below 1cm\n",
    "#    but since the noise frames at the end of most sequences produce larger values, this might not be the case\n",
    "# The \"accuracy error niveau\" is the absolutely permissible difference so that a prediction \n",
    "#    on the label is still counted as correct (remember: it's a regression task)\n",
    "# The \"jump input frames\" parameter indicates which frames are used from the original sequence\n",
    "# The original sequences are at about 40 FPS. The model is trained with just 10 FPS\n",
    "# The \"pretrain\" parameter is not used so far but could be utilized with a pretraining of the input layer\n",
    "# The \"safe steps\" parameter is used to safe the model every \"safe steps\" epochs\n",
    "\n",
    "# switching between the gpus\n",
    "import os\n",
    "os.environ['TF_CPP_MIN_LOG_LEVEL'] = '3'\n",
    "#os.environ[\"CUDA_VISIBLE_DEVICES\"] = '0'\n",
    "# disable annoying tf warnings (retracing etc.)\n",
    "import tensorflow as tf\n",
    "tf.get_logger().setLevel('ERROR')\n",
    "# enable GPU memory growth\n",
    "allow_growth()\n",
    "#tf.config.experimental_run_functions_eagerly(True)"
   ]
  },
  {
   "cell_type": "code",
   "execution_count": 5,
   "metadata": {},
   "outputs": [],
   "source": [
    "# enable effcient data processing\n",
    "sequence_dtype = data_parameter[\"sequence dtype\"]\n",
    "labels_dtype = data_parameter[\"labels dtype\"]\n",
    "calculation_dtype = training_parameter[\"calculation dtype\"]\n",
    "calculation_epsilon = training_parameter[\"calculation epsilon\"]\n",
    "\n",
    "# enable single/half/double precision\n",
    "import tensorflow.keras.backend as K\n",
    "K.set_floatx(calculation_dtype)\n",
    "K.set_epsilon(calculation_epsilon)\n",
    "\n",
    "# enable mixed precission\n",
    "if 'float16' in calculation_dtype:\n",
    "    from tensorflow.keras.mixed_precision import experimental as mixed_precision\n",
    "    #loss_scale = tf.mixed_precision.experimental.DynamicLossScale(initial_loss_scale=(2 ** 15), increment_period=2000, multiplier=2.0)\n",
    "    policy = mixed_precision.Policy('mixed_float16')#, loss_scale=loss_scale)\n",
    "    mixed_precision.set_policy(policy)\n",
    "\n",
    "import numpy as np\n",
    "# scale saved input into a normed range \n",
    "input_scaling_factor = np.asarray(data_parameter[\"input scaling factor\"],dtype=calculation_dtype)"
   ]
  },
  {
   "cell_type": "code",
   "execution_count": 6,
   "metadata": {},
   "outputs": [
    {
     "name": "stdout",
     "output_type": "stream",
     "text": [
      "Config saved under ./models/2020-09-07_18:44:00.610082/config.json\n"
     ]
    }
   ],
   "source": [
    "from napc import NeuralAPC\n",
    "\n",
    "# First step into using multiple GPU's at once\n",
    "# Needs adaption of batch size and learning rate (for optimal performance)\n",
    "#strategy = tf.distribute.MirroredStrategy().scope()\n",
    "#strategy = tf.distribute.experimental.CentralStorageStrategy().scope()\n",
    "strategy = tf.init_scope() # Use again only 1 GPU\n",
    "with strategy:\n",
    "    napc = NeuralAPC(model_parameter,training_parameter)\n",
    "    napc.compile()\n",
    "    napc.save()\n",
    "\n",
    "# copy config into model folder\n",
    "import shutil\n",
    "config_path = shutil.copy2('config.json', napc.model_path)\n",
    "print(f'Config saved under {config_path}')"
   ]
  },
  {
   "cell_type": "code",
   "execution_count": 7,
   "metadata": {
    "scrolled": true
   },
   "outputs": [
    {
     "name": "stdout",
     "output_type": "stream",
     "text": [
      "Found the training data!\n",
      "Started reading files: 18:44:03 2020-09-07\n",
      "Finished reading 1499 sequences. Took 1.600000 seconds.\n"
     ]
    }
   ],
   "source": [
    "import os\n",
    "import os.path as path\n",
    "mode = \"training\"\n",
    "data = path.join(data_parameter['data directory'], f'{mode}.dat')\n",
    "data_lengths = path.join(data_parameter['data directory'], f'{mode}_meta.dat')\n",
    "\n",
    "# This one solves the problem for all of you, which just click 'Run all' and expect it to work\n",
    "# Since the training data is not uploaded 'on purpose', the code would usually break for most people\n",
    "# If the file does not exists, the code immediately jumps to the point, where it loads the 'predefined' model and evaluates it\n",
    "# Elsewise it trains the model and evalutes the newly trained\n",
    "data_exists = os.path.isfile(data)\n",
    "\n",
    "sequence_list = labels_list = None\n",
    "\n",
    "if data_exists:\n",
    "    print(\"Found the training data!\")\n",
    "    from data_loader import readData\n",
    "    # due to the expertise of github.com/xor2k, I switched from CSV to memory-mapped files.\n",
    "    # This reduces the loading/mapping time by a lot.\n",
    "    # The sequence_list is a list containing all sequences for training (The sequences have the shape of Tx20x25)\n",
    "    # all sequences are differently long and are normalized in the range between 0. and 1., they have the dtype 'sequence_dtype'\n",
    "    # The labels_list is a list with all the labels for training in the same order as the sequence_list is.\n",
    "    # The shape of each label is 2 --> Therefore, the list could have the shape Nx2 as array. The labels have dtype 'labels_dtype'\n",
    "    sequence_list, labels_list = readData(model_parameter,training_parameter,data,data_lengths,sequence_dtype,labels_dtype)\n",
    "    # Similar to my bachelors thesis I used just about 1500 sequences (Not necessarily the same ones/ haven't checked it)\n",
    "    # Not necessary for other people or experiments\n",
    "    # sequence_list, labels_list = sequence_list[:training_parameter[\"restrict dataset size\"]], labels_list[:training_parameter[\"restrict dataset size\"]]\n",
    "else:\n",
    "    print(\"Oh nooo...Haven't found the training data. Therefore, no training possible.\")"
   ]
  },
  {
   "cell_type": "code",
   "execution_count": 8,
   "metadata": {
    "scrolled": true
   },
   "outputs": [],
   "source": [
    "from data_generator import DataGenerator\n",
    "generator = None\n",
    "if data_exists:\n",
    "    # this is class which preprocesses the training data every epoch\n",
    "    # it creates the necessary labels/bounds and augments the data\n",
    "    generator = DataGenerator(sequence_list,labels_list,input_scaling_factor,training_parameter,calculation_dtype)"
   ]
  },
  {
   "cell_type": "code",
   "execution_count": 9,
   "metadata": {
    "scrolled": false
   },
   "outputs": [
    {
     "name": "stdout",
     "output_type": "stream",
     "text": [
      "Epoch 1/5000\n",
      "10/10 [==============================] - ETA: 0s - loss: 1.6130 - accuracy: 0.1043"
     ]
    },
    {
     "data": {
      "image/png": "[encoded data removed]",
      "text/plain": [
       "<Figure size 1120x240 with 2 Axes>"
      ]
     },
     "metadata": {
      "needs_background": "light"
     },
     "output_type": "display_data"
    },
    {
     "name": "stdout",
     "output_type": "stream",
     "text": [
      "10/10 [==============================] - 10s 1s/step - loss: 1.6130 - accuracy: 0.1043\n",
      "Epoch 2/5000\n",
      "10/10 [==============================] - 6s 602ms/step - loss: 1.6218 - accuracy: 0.0919\n",
      "Epoch 3/5000\n",
      "10/10 [==============================] - 6s 565ms/step - loss: 1.5853 - accuracy: 0.1051\n",
      "Epoch 4/5000\n",
      "10/10 [==============================] - 6s 627ms/step - loss: 1.5816 - accuracy: 0.1177\n",
      "Epoch 5/5000\n",
      "10/10 [==============================] - 6s 577ms/step - loss: 1.5625 - accuracy: 0.1170\n",
      "Epoch 6/5000\n",
      " 4/10 [===========>..................] - ETA: 2s - loss: 1.6129 - accuracy: 0.1187"
     ]
    },
    {
     "ename": "KeyboardInterrupt",
     "evalue": "",
     "output_type": "error",
     "traceback": [
      "\u001b[0;31m---------------------------------------------------------------------------\u001b[0m",
      "\u001b[0;31mKeyboardInterrupt\u001b[0m                         Traceback (most recent call last)",
      "\u001b[0;32m<ipython-input-9-797d4fa351f5>\u001b[0m in \u001b[0;36m<module>\u001b[0;34m\u001b[0m\n\u001b[1;32m     20\u001b[0m     \u001b[0mgenerator\u001b[0m\u001b[0;34m.\u001b[0m\u001b[0mon_epoch_end\u001b[0m\u001b[0;34m(\u001b[0m\u001b[0;34m)\u001b[0m\u001b[0;34m\u001b[0m\u001b[0;34m\u001b[0m\u001b[0m\n\u001b[1;32m     21\u001b[0m     napc.model.fit(generator,epochs=training_parameter['epochs'],initial_epoch=napc.epoch,\\\n\u001b[0;32m---> 22\u001b[0;31m                    max_queue_size=generator.num_batches, workers=4, use_multiprocessing=False, callbacks=callbacks)\n\u001b[0m\u001b[1;32m     23\u001b[0m \u001b[0;34m\u001b[0m\u001b[0m\n\u001b[1;32m     24\u001b[0m     \u001b[0;31m# the training took about 12-16 hours on a 2080TI while occupying less than 3GB VRAM and 80% GPU-Util.\u001b[0m\u001b[0;34m\u001b[0m\u001b[0;34m\u001b[0m\u001b[0;34m\u001b[0m\u001b[0m\n",
      "\u001b[0;32m/usr/local/lib/python3.6/dist-packages/tensorflow/python/keras/engine/training.py\u001b[0m in \u001b[0;36m_method_wrapper\u001b[0;34m(self, *args, **kwargs)\u001b[0m\n\u001b[1;32m    106\u001b[0m   \u001b[0;32mdef\u001b[0m \u001b[0m_method_wrapper\u001b[0m\u001b[0;34m(\u001b[0m\u001b[0mself\u001b[0m\u001b[0;34m,\u001b[0m \u001b[0;34m*\u001b[0m\u001b[0margs\u001b[0m\u001b[0;34m,\u001b[0m \u001b[0;34m**\u001b[0m\u001b[0mkwargs\u001b[0m\u001b[0;34m)\u001b[0m\u001b[0;34m:\u001b[0m\u001b[0;34m\u001b[0m\u001b[0;34m\u001b[0m\u001b[0m\n\u001b[1;32m    107\u001b[0m     \u001b[0;32mif\u001b[0m \u001b[0;32mnot\u001b[0m \u001b[0mself\u001b[0m\u001b[0;34m.\u001b[0m\u001b[0m_in_multi_worker_mode\u001b[0m\u001b[0;34m(\u001b[0m\u001b[0;34m)\u001b[0m\u001b[0;34m:\u001b[0m  \u001b[0;31m# pylint: disable=protected-access\u001b[0m\u001b[0;34m\u001b[0m\u001b[0;34m\u001b[0m\u001b[0m\n\u001b[0;32m--> 108\u001b[0;31m       \u001b[0;32mreturn\u001b[0m \u001b[0mmethod\u001b[0m\u001b[0;34m(\u001b[0m\u001b[0mself\u001b[0m\u001b[0;34m,\u001b[0m \u001b[0;34m*\u001b[0m\u001b[0margs\u001b[0m\u001b[0;34m,\u001b[0m \u001b[0;34m**\u001b[0m\u001b[0mkwargs\u001b[0m\u001b[0;34m)\u001b[0m\u001b[0;34m\u001b[0m\u001b[0;34m\u001b[0m\u001b[0m\n\u001b[0m\u001b[1;32m    109\u001b[0m \u001b[0;34m\u001b[0m\u001b[0m\n\u001b[1;32m    110\u001b[0m     \u001b[0;31m# Running inside `run_distribute_coordinator` already.\u001b[0m\u001b[0;34m\u001b[0m\u001b[0;34m\u001b[0m\u001b[0;34m\u001b[0m\u001b[0m\n",
      "\u001b[0;32m/usr/local/lib/python3.6/dist-packages/tensorflow/python/keras/engine/training.py\u001b[0m in \u001b[0;36mfit\u001b[0;34m(self, x, y, batch_size, epochs, verbose, callbacks, validation_split, validation_data, shuffle, class_weight, sample_weight, initial_epoch, steps_per_epoch, validation_steps, validation_batch_size, validation_freq, max_queue_size, workers, use_multiprocessing)\u001b[0m\n\u001b[1;32m   1096\u001b[0m                 batch_size=batch_size):\n\u001b[1;32m   1097\u001b[0m               \u001b[0mcallbacks\u001b[0m\u001b[0;34m.\u001b[0m\u001b[0mon_train_batch_begin\u001b[0m\u001b[0;34m(\u001b[0m\u001b[0mstep\u001b[0m\u001b[0;34m)\u001b[0m\u001b[0;34m\u001b[0m\u001b[0;34m\u001b[0m\u001b[0m\n\u001b[0;32m-> 1098\u001b[0;31m               \u001b[0mtmp_logs\u001b[0m \u001b[0;34m=\u001b[0m \u001b[0mtrain_function\u001b[0m\u001b[0;34m(\u001b[0m\u001b[0miterator\u001b[0m\u001b[0;34m)\u001b[0m\u001b[0;34m\u001b[0m\u001b[0;34m\u001b[0m\u001b[0m\n\u001b[0m\u001b[1;32m   1099\u001b[0m               \u001b[0;32mif\u001b[0m \u001b[0mdata_handler\u001b[0m\u001b[0;34m.\u001b[0m\u001b[0mshould_sync\u001b[0m\u001b[0;34m:\u001b[0m\u001b[0;34m\u001b[0m\u001b[0;34m\u001b[0m\u001b[0m\n\u001b[1;32m   1100\u001b[0m                 \u001b[0mcontext\u001b[0m\u001b[0;34m.\u001b[0m\u001b[0masync_wait\u001b[0m\u001b[0;34m(\u001b[0m\u001b[0;34m)\u001b[0m\u001b[0;34m\u001b[0m\u001b[0;34m\u001b[0m\u001b[0m\n",
      "\u001b[0;32m/usr/local/lib/python3.6/dist-packages/tensorflow/python/eager/def_function.py\u001b[0m in \u001b[0;36m__call__\u001b[0;34m(self, *args, **kwds)\u001b[0m\n\u001b[1;32m    778\u001b[0m       \u001b[0;32melse\u001b[0m\u001b[0;34m:\u001b[0m\u001b[0;34m\u001b[0m\u001b[0;34m\u001b[0m\u001b[0m\n\u001b[1;32m    779\u001b[0m         \u001b[0mcompiler\u001b[0m \u001b[0;34m=\u001b[0m \u001b[0;34m\"nonXla\"\u001b[0m\u001b[0;34m\u001b[0m\u001b[0;34m\u001b[0m\u001b[0m\n\u001b[0;32m--> 780\u001b[0;31m         \u001b[0mresult\u001b[0m \u001b[0;34m=\u001b[0m \u001b[0mself\u001b[0m\u001b[0;34m.\u001b[0m\u001b[0m_call\u001b[0m\u001b[0;34m(\u001b[0m\u001b[0;34m*\u001b[0m\u001b[0margs\u001b[0m\u001b[0;34m,\u001b[0m \u001b[0;34m**\u001b[0m\u001b[0mkwds\u001b[0m\u001b[0;34m)\u001b[0m\u001b[0;34m\u001b[0m\u001b[0;34m\u001b[0m\u001b[0m\n\u001b[0m\u001b[1;32m    781\u001b[0m \u001b[0;34m\u001b[0m\u001b[0m\n\u001b[1;32m    782\u001b[0m       \u001b[0mnew_tracing_count\u001b[0m \u001b[0;34m=\u001b[0m \u001b[0mself\u001b[0m\u001b[0;34m.\u001b[0m\u001b[0m_get_tracing_count\u001b[0m\u001b[0;34m(\u001b[0m\u001b[0;34m)\u001b[0m\u001b[0;34m\u001b[0m\u001b[0;34m\u001b[0m\u001b[0m\n",
      "\u001b[0;32m/usr/local/lib/python3.6/dist-packages/tensorflow/python/eager/def_function.py\u001b[0m in \u001b[0;36m_call\u001b[0;34m(self, *args, **kwds)\u001b[0m\n\u001b[1;32m    805\u001b[0m       \u001b[0;31m# In this case we have created variables on the first call, so we run the\u001b[0m\u001b[0;34m\u001b[0m\u001b[0;34m\u001b[0m\u001b[0;34m\u001b[0m\u001b[0m\n\u001b[1;32m    806\u001b[0m       \u001b[0;31m# defunned version which is guaranteed to never create variables.\u001b[0m\u001b[0;34m\u001b[0m\u001b[0;34m\u001b[0m\u001b[0;34m\u001b[0m\u001b[0m\n\u001b[0;32m--> 807\u001b[0;31m       \u001b[0;32mreturn\u001b[0m \u001b[0mself\u001b[0m\u001b[0;34m.\u001b[0m\u001b[0m_stateless_fn\u001b[0m\u001b[0;34m(\u001b[0m\u001b[0;34m*\u001b[0m\u001b[0margs\u001b[0m\u001b[0;34m,\u001b[0m \u001b[0;34m**\u001b[0m\u001b[0mkwds\u001b[0m\u001b[0;34m)\u001b[0m  \u001b[0;31m# pylint: disable=not-callable\u001b[0m\u001b[0;34m\u001b[0m\u001b[0;34m\u001b[0m\u001b[0m\n\u001b[0m\u001b[1;32m    808\u001b[0m     \u001b[0;32melif\u001b[0m \u001b[0mself\u001b[0m\u001b[0;34m.\u001b[0m\u001b[0m_stateful_fn\u001b[0m \u001b[0;32mis\u001b[0m \u001b[0;32mnot\u001b[0m \u001b[0;32mNone\u001b[0m\u001b[0;34m:\u001b[0m\u001b[0;34m\u001b[0m\u001b[0;34m\u001b[0m\u001b[0m\n\u001b[1;32m    809\u001b[0m       \u001b[0;31m# Release the lock early so that multiple threads can perform the call\u001b[0m\u001b[0;34m\u001b[0m\u001b[0;34m\u001b[0m\u001b[0;34m\u001b[0m\u001b[0m\n",
      "\u001b[0;32m/usr/local/lib/python3.6/dist-packages/tensorflow/python/eager/function.py\u001b[0m in \u001b[0;36m__call__\u001b[0;34m(self, *args, **kwargs)\u001b[0m\n\u001b[1;32m   2827\u001b[0m     \u001b[0;32mwith\u001b[0m \u001b[0mself\u001b[0m\u001b[0;34m.\u001b[0m\u001b[0m_lock\u001b[0m\u001b[0;34m:\u001b[0m\u001b[0;34m\u001b[0m\u001b[0;34m\u001b[0m\u001b[0m\n\u001b[1;32m   2828\u001b[0m       \u001b[0mgraph_function\u001b[0m\u001b[0;34m,\u001b[0m \u001b[0margs\u001b[0m\u001b[0;34m,\u001b[0m \u001b[0mkwargs\u001b[0m \u001b[0;34m=\u001b[0m \u001b[0mself\u001b[0m\u001b[0;34m.\u001b[0m\u001b[0m_maybe_define_function\u001b[0m\u001b[0;34m(\u001b[0m\u001b[0margs\u001b[0m\u001b[0;34m,\u001b[0m \u001b[0mkwargs\u001b[0m\u001b[0;34m)\u001b[0m\u001b[0;34m\u001b[0m\u001b[0;34m\u001b[0m\u001b[0m\n\u001b[0;32m-> 2829\u001b[0;31m     \u001b[0;32mreturn\u001b[0m \u001b[0mgraph_function\u001b[0m\u001b[0;34m.\u001b[0m\u001b[0m_filtered_call\u001b[0m\u001b[0;34m(\u001b[0m\u001b[0margs\u001b[0m\u001b[0;34m,\u001b[0m \u001b[0mkwargs\u001b[0m\u001b[0;34m)\u001b[0m  \u001b[0;31m# pylint: disable=protected-access\u001b[0m\u001b[0;34m\u001b[0m\u001b[0;34m\u001b[0m\u001b[0m\n\u001b[0m\u001b[1;32m   2830\u001b[0m \u001b[0;34m\u001b[0m\u001b[0m\n\u001b[1;32m   2831\u001b[0m   \u001b[0;34m@\u001b[0m\u001b[0mproperty\u001b[0m\u001b[0;34m\u001b[0m\u001b[0;34m\u001b[0m\u001b[0m\n",
      "\u001b[0;32m/usr/local/lib/python3.6/dist-packages/tensorflow/python/eager/function.py\u001b[0m in \u001b[0;36m_filtered_call\u001b[0;34m(self, args, kwargs, cancellation_manager)\u001b[0m\n\u001b[1;32m   1846\u001b[0m                            resource_variable_ops.BaseResourceVariable))],\n\u001b[1;32m   1847\u001b[0m         \u001b[0mcaptured_inputs\u001b[0m\u001b[0;34m=\u001b[0m\u001b[0mself\u001b[0m\u001b[0;34m.\u001b[0m\u001b[0mcaptured_inputs\u001b[0m\u001b[0;34m,\u001b[0m\u001b[0;34m\u001b[0m\u001b[0;34m\u001b[0m\u001b[0m\n\u001b[0;32m-> 1848\u001b[0;31m         cancellation_manager=cancellation_manager)\n\u001b[0m\u001b[1;32m   1849\u001b[0m \u001b[0;34m\u001b[0m\u001b[0m\n\u001b[1;32m   1850\u001b[0m   \u001b[0;32mdef\u001b[0m \u001b[0m_call_flat\u001b[0m\u001b[0;34m(\u001b[0m\u001b[0mself\u001b[0m\u001b[0;34m,\u001b[0m \u001b[0margs\u001b[0m\u001b[0;34m,\u001b[0m \u001b[0mcaptured_inputs\u001b[0m\u001b[0;34m,\u001b[0m \u001b[0mcancellation_manager\u001b[0m\u001b[0;34m=\u001b[0m\u001b[0;32mNone\u001b[0m\u001b[0;34m)\u001b[0m\u001b[0;34m:\u001b[0m\u001b[0;34m\u001b[0m\u001b[0;34m\u001b[0m\u001b[0m\n",
      "\u001b[0;32m/usr/local/lib/python3.6/dist-packages/tensorflow/python/eager/function.py\u001b[0m in \u001b[0;36m_call_flat\u001b[0;34m(self, args, captured_inputs, cancellation_manager)\u001b[0m\n\u001b[1;32m   1922\u001b[0m       \u001b[0;31m# No tape is watching; skip to running the function.\u001b[0m\u001b[0;34m\u001b[0m\u001b[0;34m\u001b[0m\u001b[0;34m\u001b[0m\u001b[0m\n\u001b[1;32m   1923\u001b[0m       return self._build_call_outputs(self._inference_function.call(\n\u001b[0;32m-> 1924\u001b[0;31m           ctx, args, cancellation_manager=cancellation_manager))\n\u001b[0m\u001b[1;32m   1925\u001b[0m     forward_backward = self._select_forward_and_backward_functions(\n\u001b[1;32m   1926\u001b[0m         \u001b[0margs\u001b[0m\u001b[0;34m,\u001b[0m\u001b[0;34m\u001b[0m\u001b[0;34m\u001b[0m\u001b[0m\n",
      "\u001b[0;32m/usr/local/lib/python3.6/dist-packages/tensorflow/python/eager/function.py\u001b[0m in \u001b[0;36mcall\u001b[0;34m(self, ctx, args, cancellation_manager)\u001b[0m\n\u001b[1;32m    548\u001b[0m               \u001b[0minputs\u001b[0m\u001b[0;34m=\u001b[0m\u001b[0margs\u001b[0m\u001b[0;34m,\u001b[0m\u001b[0;34m\u001b[0m\u001b[0;34m\u001b[0m\u001b[0m\n\u001b[1;32m    549\u001b[0m               \u001b[0mattrs\u001b[0m\u001b[0;34m=\u001b[0m\u001b[0mattrs\u001b[0m\u001b[0;34m,\u001b[0m\u001b[0;34m\u001b[0m\u001b[0;34m\u001b[0m\u001b[0m\n\u001b[0;32m--> 550\u001b[0;31m               ctx=ctx)\n\u001b[0m\u001b[1;32m    551\u001b[0m         \u001b[0;32melse\u001b[0m\u001b[0;34m:\u001b[0m\u001b[0;34m\u001b[0m\u001b[0;34m\u001b[0m\u001b[0m\n\u001b[1;32m    552\u001b[0m           outputs = execute.execute_with_cancellation(\n",
      "\u001b[0;32m/usr/local/lib/python3.6/dist-packages/tensorflow/python/eager/execute.py\u001b[0m in \u001b[0;36mquick_execute\u001b[0;34m(op_name, num_outputs, inputs, attrs, ctx, name)\u001b[0m\n\u001b[1;32m     58\u001b[0m     \u001b[0mctx\u001b[0m\u001b[0;34m.\u001b[0m\u001b[0mensure_initialized\u001b[0m\u001b[0;34m(\u001b[0m\u001b[0;34m)\u001b[0m\u001b[0;34m\u001b[0m\u001b[0;34m\u001b[0m\u001b[0m\n\u001b[1;32m     59\u001b[0m     tensors = pywrap_tfe.TFE_Py_Execute(ctx._handle, device_name, op_name,\n\u001b[0;32m---> 60\u001b[0;31m                                         inputs, attrs, num_outputs)\n\u001b[0m\u001b[1;32m     61\u001b[0m   \u001b[0;32mexcept\u001b[0m \u001b[0mcore\u001b[0m\u001b[0;34m.\u001b[0m\u001b[0m_NotOkStatusException\u001b[0m \u001b[0;32mas\u001b[0m \u001b[0me\u001b[0m\u001b[0;34m:\u001b[0m\u001b[0;34m\u001b[0m\u001b[0;34m\u001b[0m\u001b[0m\n\u001b[1;32m     62\u001b[0m     \u001b[0;32mif\u001b[0m \u001b[0mname\u001b[0m \u001b[0;32mis\u001b[0m \u001b[0;32mnot\u001b[0m \u001b[0;32mNone\u001b[0m\u001b[0;34m:\u001b[0m\u001b[0;34m\u001b[0m\u001b[0;34m\u001b[0m\u001b[0m\n",
      "\u001b[0;31mKeyboardInterrupt\u001b[0m: "
     ]
    }
   ],
   "source": [
    "from optional_features import customPlot\n",
    "# train\n",
    "if data_exists:\n",
    "    \n",
    "    callbacks = []\n",
    "    callbacks += [napc.IncreaseEpochCustom(napc)]\n",
    "    callbacks += [napc.SaveEveryNthEpochCustom(napc,training_parameter['safe steps'])]\n",
    "    # tensorboard callback\n",
    "    callbacks += [tf.keras.callbacks.TensorBoard(log_dir=napc.model_path+'/logs', histogram_freq=0, write_graph=True, \\\n",
    "                                                 write_images=False, update_freq='epoch', profile_batch=0, \\\n",
    "                                                 embeddings_freq=0, embeddings_metadata=None)]\n",
    "    # custom callback for creating the plots\n",
    "    '''\n",
    "    try: \n",
    "        callbacks += [customPlot(generator,napc,plot_freq=1000)]\n",
    "    except ValueError:\n",
    "        pass\n",
    "    '''\n",
    "    \n",
    "    generator.on_epoch_end()\n",
    "    napc.model.fit(generator,epochs=training_parameter['epochs'],initial_epoch=napc.epoch,\\\n",
    "                   max_queue_size=generator.num_batches, workers=4, use_multiprocessing=False, callbacks=callbacks)\n",
    "\n",
    "    # the training took about 12-16 hours on a 2080TI while occupying less than 3GB VRAM and 80% GPU-Util.\n",
    "    # always depending on the LSTM implementation (CPU/GPU/CUDNN_TF1/CUDNN_TF2), the precision and data preparation\n",
    "    # got my fastest time per epoch training performance with 16bit(half->mixed) precision, CUDNN v1 implementation (without Dropout),\n",
    "    #   batchsize divisible by 16 (larger is not always better) and lstm layer width divisible by 32"
   ]
  },
  {
   "cell_type": "code",
   "execution_count": 10,
   "metadata": {},
   "outputs": [],
   "source": [
    "# For all of you which don't have the training data and just want to execute it\n",
    "if not data_exists:\n",
    "    data_parameter, model_parameter, training_parameter = loadConfig('models/config.json',verbose=False)\n",
    "    napc = NeuralAPC(model_parameter,training_parameter)\n",
    "    # Loading the included model (it has no subdirectory)\n",
    "    napc.loadModel(10000,'models/')\n",
    "    # The model_path of the model is not 'models/', but the previously created subdirectory\n",
    "    # You could now train it further/save it/ etc."
   ]
  },
  {
   "cell_type": "code",
   "execution_count": 12,
   "metadata": {},
   "outputs": [
    {
     "name": "stdout",
     "output_type": "stream",
     "text": [
      "Started reading files: 18:45:44 2020-09-07\n",
      "Finished reading 15 sequences. Took 0.000000 seconds.\n"
     ]
    }
   ],
   "source": [
    "# produce videos on all validation sequences\n",
    "import os.path as path\n",
    "mode = \"validation\"\n",
    "data = path.join(data_parameter['data directory'], f'{mode}.dat')\n",
    "data_lengths = path.join(data_parameter['data directory'], f'{mode}_meta.dat')\n",
    "\n",
    "# de-/activate video creation\n",
    "create_vids = False\n",
    "\n",
    "# copy dict from training and modify the concatenation and batch size\n",
    "validation_parameter = training_parameter.copy()\n",
    "validation_parameter[\"minimum concatenation\"] = 1\n",
    "validation_parameter[\"maximum concatenation\"] = 1\n",
    "\n",
    "# read the validation data\n",
    "from data_loader import readData\n",
    "validation_sequence_list, validation_labels_list = readData(model_parameter,validation_parameter,data,data_lengths,sequence_dtype,labels_dtype)\n",
    "\n",
    "# process them (i need the bounds in y for the accuracy and the videos)\n",
    "from data_generator import DataGenerator\n",
    "validation_generator = DataGenerator(validation_sequence_list,validation_labels_list,input_scaling_factor,validation_parameter,calculation_dtype)\n",
    "# With training=False, no augmentation is applied to the input data\n",
    "# Therefore, results are the closest possible real-world setting\n",
    "validation_generator.on_epoch_end(training=False)\n",
    "\n",
    "# creates my videos\n",
    "from optional_features import createVideo\n",
    "accuracy = []\n",
    "for batch_idx in range(validation_generator.num_batches):\n",
    "    x,y = validation_generator[batch_idx]\n",
    "    predictions = napc.model.predict_on_batch(x)\n",
    "    if create_vids:\n",
    "        for sample_idx, prediction in enumerate(predictions):\n",
    "            output_dimensions = model_parameter['output dimensions']\n",
    "            binary_mask = (np.minimum(0,y[sample_idx,:,2*output_dimensions])+1).astype(bool)\n",
    "            createVideo(napc.epoch,sample_idx,x[sample_idx,binary_mask], \\\n",
    "                                        K.eval(prediction[binary_mask]), \\\n",
    "                                        y[sample_idx,binary_mask,0:output_dimensions], \\\n",
    "                                        y[sample_idx,binary_mask,output_dimensions:2*output_dimensions])\n",
    "    accuracy += [K.eval(napc.accuracy(y,predictions))]"
   ]
  },
  {
   "cell_type": "code",
   "execution_count": 13,
   "metadata": {},
   "outputs": [
    {
     "name": "stdout",
     "output_type": "stream",
     "text": [
      "validation accuracy: 3.33251953125 %\n"
     ]
    }
   ],
   "source": [
    "# Since I'm not allowed to upload more sequences and I don't want to publish a perfect model\n",
    "# (therefore, I haven't tested this one) the accuracy is just an approximation of the true capabilities\n",
    "# The 'validation' data in this case is in fact a test set (last epoch was chosen without selection)\n",
    "# In practice someone would use k-Fold-Crossvalidation and would reason about the average performance\n",
    "\n",
    "# So let's have a look how well the model does...\n",
    "print(f'{mode} accuracy: {100*np.mean(accuracy)} %')"
   ]
  },
  {
   "cell_type": "code",
   "execution_count": 14,
   "metadata": {},
   "outputs": [
    {
     "name": "stdout",
     "output_type": "stream",
     "text": [
      "Compute dtype: float16\n",
      "Variable dtype: float32\n",
      "Loss scale: DynamicLossScale(current_loss_scale=32768.0, num_good_steps=55, initial_loss_scale=32768.0, increment_period=2000, multiplier=2.0)\n"
     ]
    }
   ],
   "source": [
    "if 'float16' in calculation_dtype:\n",
    "    # Check again if we've run our model with mixed precision\n",
    "    print('Compute dtype: %s' % policy.compute_dtype)\n",
    "    print('Variable dtype: %s' % policy.variable_dtype)\n",
    "    # Print the final loss scale\n",
    "    loss_scale = policy.loss_scale\n",
    "    print('Loss scale: %s' % loss_scale)"
   ]
  }
 ],
 "metadata": {
  "kernelspec": {
   "display_name": "Python 3",
   "language": "python",
   "name": "python3"
  },
  "language_info": {
   "codemirror_mode": {
    "name": "ipython",
    "version": 3
   },
   "file_extension": ".py",
   "mimetype": "text/x-python",
   "name": "python",
   "nbconvert_exporter": "python",
   "pygments_lexer": "ipython3",
   "version": "3.6.9"
  }
 },
 "nbformat": 4,
 "nbformat_minor": 4
}
