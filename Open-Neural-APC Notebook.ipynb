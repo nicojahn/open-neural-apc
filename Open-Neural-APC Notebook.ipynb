{
 "cells": [
  {
   "cell_type": "markdown",
   "metadata": {},
   "source": [
    "# Open-Neural-APC as Tensorflow 2 implementation"
   ]
  },
  {
   "cell_type": "code",
   "execution_count": 1,
   "metadata": {
    "scrolled": false
   },
   "outputs": [
    {
     "name": "stdout",
     "output_type": "stream",
     "text": [
      "Requirement already up-to-date: tensorflow in /usr/local/lib/python3.7/site-packages (2.1.0)\n",
      "Requirement already satisfied, skipping upgrade: keras-applications>=1.0.8 in /usr/local/lib/python3.7/site-packages (from tensorflow) (1.0.8)\n",
      "Requirement already satisfied, skipping upgrade: scipy==1.4.1; python_version >= \"3\" in /usr/local/lib/python3.7/site-packages (from tensorflow) (1.4.1)\n",
      "Requirement already satisfied, skipping upgrade: keras-preprocessing>=1.1.0 in /usr/local/lib/python3.7/site-packages (from tensorflow) (1.1.0)\n",
      "Requirement already satisfied, skipping upgrade: opt-einsum>=2.3.2 in /usr/local/lib/python3.7/site-packages (from tensorflow) (3.1.0)\n",
      "Requirement already satisfied, skipping upgrade: gast==0.2.2 in /usr/local/lib/python3.7/site-packages (from tensorflow) (0.2.2)\n",
      "Requirement already satisfied, skipping upgrade: grpcio>=1.8.6 in /usr/local/lib/python3.7/site-packages (from tensorflow) (1.27.1)\n",
      "Requirement already satisfied, skipping upgrade: astor>=0.6.0 in /usr/local/lib/python3.7/site-packages (from tensorflow) (0.8.1)\n",
      "Requirement already satisfied, skipping upgrade: six>=1.12.0 in /usr/local/lib/python3.7/site-packages (from tensorflow) (1.14.0)\n",
      "Requirement already satisfied, skipping upgrade: google-pasta>=0.1.6 in /usr/local/lib/python3.7/site-packages (from tensorflow) (0.1.8)\n",
      "Requirement already satisfied, skipping upgrade: termcolor>=1.1.0 in /usr/local/lib/python3.7/site-packages (from tensorflow) (1.1.0)\n",
      "Requirement already satisfied, skipping upgrade: wrapt>=1.11.1 in /usr/local/lib/python3.7/site-packages (from tensorflow) (1.12.0)\n",
      "Requirement already satisfied, skipping upgrade: numpy<2.0,>=1.16.0 in /usr/local/lib/python3.7/site-packages (from tensorflow) (1.18.1)\n",
      "Requirement already satisfied, skipping upgrade: protobuf>=3.8.0 in /usr/local/lib/python3.7/site-packages (from tensorflow) (3.11.3)\n",
      "Requirement already satisfied, skipping upgrade: absl-py>=0.7.0 in /usr/local/lib/python3.7/site-packages (from tensorflow) (0.9.0)\n",
      "Requirement already satisfied, skipping upgrade: wheel>=0.26; python_version >= \"3\" in /usr/local/lib/python3.7/site-packages (from tensorflow) (0.33.6)\n",
      "Requirement already satisfied, skipping upgrade: tensorboard<2.2.0,>=2.1.0 in /usr/local/lib/python3.7/site-packages (from tensorflow) (2.1.0)\n",
      "Requirement already satisfied, skipping upgrade: tensorflow-estimator<2.2.0,>=2.1.0rc0 in /usr/local/lib/python3.7/site-packages (from tensorflow) (2.1.0)\n",
      "Requirement already satisfied, skipping upgrade: h5py in /usr/local/lib/python3.7/site-packages (from keras-applications>=1.0.8->tensorflow) (2.10.0)\n",
      "Requirement already satisfied, skipping upgrade: setuptools in /usr/local/lib/python3.7/site-packages (from protobuf>=3.8.0->tensorflow) (42.0.2)\n",
      "Requirement already satisfied, skipping upgrade: markdown>=2.6.8 in /usr/local/lib/python3.7/site-packages (from tensorboard<2.2.0,>=2.1.0->tensorflow) (3.2)\n",
      "Requirement already satisfied, skipping upgrade: requests<3,>=2.21.0 in /usr/local/lib/python3.7/site-packages (from tensorboard<2.2.0,>=2.1.0->tensorflow) (2.23.0)\n",
      "Requirement already satisfied, skipping upgrade: google-auth-oauthlib<0.5,>=0.4.1 in /usr/local/lib/python3.7/site-packages (from tensorboard<2.2.0,>=2.1.0->tensorflow) (0.4.1)\n",
      "Requirement already satisfied, skipping upgrade: google-auth<2,>=1.6.3 in /usr/local/lib/python3.7/site-packages (from tensorboard<2.2.0,>=2.1.0->tensorflow) (1.11.2)\n",
      "Requirement already satisfied, skipping upgrade: werkzeug>=0.11.15 in /usr/local/lib/python3.7/site-packages (from tensorboard<2.2.0,>=2.1.0->tensorflow) (1.0.0)\n",
      "Requirement already satisfied, skipping upgrade: certifi>=2017.4.17 in /usr/local/lib/python3.7/site-packages (from requests<3,>=2.21.0->tensorboard<2.2.0,>=2.1.0->tensorflow) (2019.11.28)\n",
      "Requirement already satisfied, skipping upgrade: chardet<4,>=3.0.2 in /usr/local/lib/python3.7/site-packages (from requests<3,>=2.21.0->tensorboard<2.2.0,>=2.1.0->tensorflow) (3.0.4)\n",
      "Requirement already satisfied, skipping upgrade: idna<3,>=2.5 in /usr/local/lib/python3.7/site-packages (from requests<3,>=2.21.0->tensorboard<2.2.0,>=2.1.0->tensorflow) (2.9)\n",
      "Requirement already satisfied, skipping upgrade: urllib3!=1.25.0,!=1.25.1,<1.26,>=1.21.1 in /usr/local/lib/python3.7/site-packages (from requests<3,>=2.21.0->tensorboard<2.2.0,>=2.1.0->tensorflow) (1.25.8)\n",
      "Requirement already satisfied, skipping upgrade: requests-oauthlib>=0.7.0 in /usr/local/lib/python3.7/site-packages (from google-auth-oauthlib<0.5,>=0.4.1->tensorboard<2.2.0,>=2.1.0->tensorflow) (1.3.0)\n",
      "Requirement already satisfied, skipping upgrade: cachetools<5.0,>=2.0.0 in /usr/local/lib/python3.7/site-packages (from google-auth<2,>=1.6.3->tensorboard<2.2.0,>=2.1.0->tensorflow) (4.0.0)\n",
      "Requirement already satisfied, skipping upgrade: rsa<4.1,>=3.1.4 in /usr/local/lib/python3.7/site-packages (from google-auth<2,>=1.6.3->tensorboard<2.2.0,>=2.1.0->tensorflow) (4.0)\n",
      "Requirement already satisfied, skipping upgrade: pyasn1-modules>=0.2.1 in /usr/local/lib/python3.7/site-packages (from google-auth<2,>=1.6.3->tensorboard<2.2.0,>=2.1.0->tensorflow) (0.2.8)\n",
      "Requirement already satisfied, skipping upgrade: oauthlib>=3.0.0 in /usr/local/lib/python3.7/site-packages (from requests-oauthlib>=0.7.0->google-auth-oauthlib<0.5,>=0.4.1->tensorboard<2.2.0,>=2.1.0->tensorflow) (3.1.0)\n",
      "Requirement already satisfied, skipping upgrade: pyasn1>=0.1.3 in /usr/local/lib/python3.7/site-packages (from rsa<4.1,>=3.1.4->google-auth<2,>=1.6.3->tensorboard<2.2.0,>=2.1.0->tensorflow) (0.4.8)\n",
      "Requirement already up-to-date: matplotlib in /usr/local/lib/python3.7/site-packages (3.2.0)\n",
      "Requirement already satisfied, skipping upgrade: numpy>=1.11 in /usr/local/lib/python3.7/site-packages (from matplotlib) (1.18.1)\n",
      "Requirement already satisfied, skipping upgrade: python-dateutil>=2.1 in /usr/local/lib/python3.7/site-packages (from matplotlib) (2.8.1)\n",
      "Requirement already satisfied, skipping upgrade: kiwisolver>=1.0.1 in /usr/local/lib/python3.7/site-packages (from matplotlib) (1.1.0)\n",
      "Requirement already satisfied, skipping upgrade: pyparsing!=2.0.4,!=2.1.2,!=2.1.6,>=2.0.1 in /usr/local/lib/python3.7/site-packages (from matplotlib) (2.4.6)\n",
      "Requirement already satisfied, skipping upgrade: cycler>=0.10 in /usr/local/lib/python3.7/site-packages (from matplotlib) (0.10.0)\n",
      "Requirement already satisfied, skipping upgrade: six>=1.5 in /usr/local/lib/python3.7/site-packages (from python-dateutil>=2.1->matplotlib) (1.14.0)\n",
      "Requirement already satisfied, skipping upgrade: setuptools in /usr/local/lib/python3.7/site-packages (from kiwisolver>=1.0.1->matplotlib) (42.0.2)\n",
      "Requirement already up-to-date: numpy in /usr/local/lib/python3.7/site-packages (1.18.1)\n"
     ]
    }
   ],
   "source": [
    "# install and upgrade required packages\n",
    "!pip3 install --upgrade tensorflow\n",
    "!pip3 install --upgrade matplotlib\n",
    "!pip3 install --upgrade numpy\n",
    "\n",
    "# ignore warnings\n",
    "import warnings\n",
    "warnings.filterwarnings('ignore')"
   ]
  },
  {
   "cell_type": "code",
   "execution_count": 2,
   "metadata": {},
   "outputs": [
    {
     "data": {
      "text/plain": [
       "{'data parameter': {'data directory': './data/',\n",
       "  'training labels': 'labels/',\n",
       "  'training csv': 'csv/',\n",
       "  'training label': 'train.csv',\n",
       "  'validation labels': 'labels_public/',\n",
       "  'validation csv': 'csv_public/',\n",
       "  'validation label': 'valid.csv'},\n",
       " 'model parameter': {'input dimensions': [20, 25],\n",
       "  'lstm width': 50,\n",
       "  'lstm depth': 5,\n",
       "  'output dimensions': 2},\n",
       " 'training parameter': {'epochs': 10000,\n",
       "  'safe steps': 5,\n",
       "  'pretrain': False,\n",
       "  'batchsize': 16,\n",
       "  'learning rate': 0.001,\n",
       "  'dropout rate': 0.2,\n",
       "  'jump input frames': 4,\n",
       "  'accuracy error niveau': 0.5}}"
      ]
     },
     "execution_count": 2,
     "metadata": {},
     "output_type": "execute_result"
    }
   ],
   "source": [
    "# load model config\n",
    "import json\n",
    "with open('config.json', 'r') as config_file:\n",
    "    config_data = json.load(config_file)\n",
    "\n",
    "# extract parameter classes\n",
    "data_parameter = config_data['data parameter']\n",
    "model_parameter = config_data['model parameter']\n",
    "training_parameter = config_data['training parameter']\n",
    "\n",
    "# show content of config\n",
    "config_data"
   ]
  },
  {
   "cell_type": "code",
   "execution_count": 3,
   "metadata": {
    "tags": [
     "hide_output"
    ]
   },
   "outputs": [
    {
     "data": {
      "image/png": "[encoded data removed]",
      "text/plain": [
       "<Figure size 1120x480 with 4 Axes>"
      ]
     },
     "metadata": {
      "needs_background": "light"
     },
     "output_type": "display_data"
    }
   ],
   "source": [
    "# inspect the data\n",
    "\n",
    "# plot n sample images\n",
    "def plotNRandomSampleImages(n=3):\n",
    "    import glob\n",
    "    from matplotlib import pyplot as plt\n",
    "    %matplotlib inline\n",
    "    import csv\n",
    "    import random\n",
    "    import numpy as np\n",
    "\n",
    "    # restrict to a few plots\n",
    "    if n < 2 or n > 5:\n",
    "        raise ValueError('Restricted to only 2 to 5 plots at a time.')\n",
    "    \n",
    "    # get path of all csv files in folder\n",
    "    validation_csv_path = glob.glob(f\"{data_parameter['data directory']}{data_parameter['validation csv']}*.csv\")\n",
    "                                    \n",
    "    # prepare plot\n",
    "    fig, ax = plt.subplots(1,n,figsize=(14,6), dpi=80)\n",
    "    fig.suptitle('Sample Images')\n",
    "    fig.subplots_adjust(top=1.5-(1./n)) # just a hack\n",
    "                                    \n",
    "    # iterate n times and always choose random file and random frame\n",
    "    for idx in range(n):\n",
    "        with open(random.choice(validation_csv_path), 'r') as csv_file:\n",
    "            picture_iterator = list(csv.reader(csv_file))\n",
    "            frame = random.choice(picture_iterator)\n",
    "            # reshape, rescale and plot image\n",
    "            frame = np.reshape(frame,model_parameter['input dimensions'])\n",
    "            frame = np.asarray(frame,dtype=int)/255.                    \n",
    "            ax[idx].imshow(frame,cmap=\"gray\",vmin=0,vmax=1)\n",
    "                                    \n",
    "    # add colorbar for pixel range\n",
    "    cax = fig.add_axes([ax[-1].get_position().x1+0.02,ax[-1].get_position().y0,0.01,ax[-1].get_position().y1-ax[-1].get_position().y0])\n",
    "    fig.colorbar(*ax[-1].get_images(), cax = cax)\n",
    "    plt.show(fig)\n",
    "\n",
    "plotNRandomSampleImages()"
   ]
  },
  {
   "cell_type": "code",
   "execution_count": 4,
   "metadata": {
    "scrolled": false
   },
   "outputs": [
    {
     "name": "stdout",
     "output_type": "stream",
     "text": [
      "WARNING:tensorflow:From /Library/Frameworks/Python.framework/Versions/3.6/lib/python3.6/site-packages/tensorflow/python/ops/resource_variable_ops.py:435: colocate_with (from tensorflow.python.framework.ops) is deprecated and will be removed in a future version.\n",
      "Instructions for updating:\n",
      "Colocations handled automatically by placer.\n",
      "WARNING:tensorflow:From /Library/Frameworks/Python.framework/Versions/3.6/lib/python3.6/site-packages/tensorflow/python/keras/backend.py:4010: calling dropout (from tensorflow.python.ops.nn_ops) with keep_prob is deprecated and will be removed in a future version.\n",
      "Instructions for updating:\n",
      "Please use `rate` instead of `keep_prob`. Rate should be set to `rate = 1 - keep_prob`.\n",
      "_________________________________________________________________\n",
      "Layer (type)                 Output Shape              Param #   \n",
      "=================================================================\n",
      "InputReshape (Reshape)       (None, None, 500)         0         \n",
      "_________________________________________________________________\n",
      "InputLayer (Dense)           (None, None, 50)          25050     \n",
      "_________________________________________________________________\n",
      "InputActivation (LeakyReLU)  (None, None, 50)          0         \n",
      "_________________________________________________________________\n",
      "CoreLayer0 (LSTM)            (None, None, 50)          20200     \n",
      "_________________________________________________________________\n",
      "CoreLayer1 (LSTM)            (None, None, 50)          20200     \n",
      "_________________________________________________________________\n",
      "CoreLayer2 (LSTM)            (None, None, 50)          20200     \n",
      "_________________________________________________________________\n",
      "CoreLayer3 (LSTM)            (None, None, 50)          20200     \n",
      "_________________________________________________________________\n",
      "CoreLayer4 (LSTM)            (None, None, 50)          20200     \n",
      "_________________________________________________________________\n",
      "OutputLayer (Dense)          (None, None, 2)           102       \n",
      "_________________________________________________________________\n",
      "OutputActivation (LeakyReLU) (None, None, 2)           0         \n",
      "=================================================================\n",
      "Total params: 126,152\n",
      "Trainable params: 126,152\n",
      "Non-trainable params: 0\n",
      "_________________________________________________________________\n"
     ]
    }
   ],
   "source": [
    "# create network\n",
    "import tensorflow as tf\n",
    "from tensorflow import keras as keras\n",
    "import numpy as np\n",
    "from tensorflow.keras.layers import Reshape,InputLayer,LSTM,Dense,LeakyReLU\n",
    "\n",
    "# initial definition of the sequential model\n",
    "model = keras.Sequential()\n",
    "model.add(InputLayer(input_shape=[None,*model_parameter['input dimensions']]))\n",
    "# input layer which is currently just a dense layer, therefore we have to flatten the input frames\n",
    "def Input():\n",
    "    model.add(Reshape(target_shape=(-1, np.multiply(*model_parameter['input dimensions'])),name='InputReshape'))\n",
    "    model.add(Dense(model_parameter['lstm width'],trainable=True,name='InputLayer'))\n",
    "    model.add(LeakyReLU(name='InputActivation'))\n",
    "# the core network based on lstm\n",
    "def Core():\n",
    "    for idx in range(model_parameter['lstm depth']):\n",
    "        model.add(LSTM(units=model_parameter['lstm width'], dropout=training_parameter['dropout rate'],\\\n",
    "                        return_sequences=True,name='CoreLayer%d'%idx))\n",
    "# the output layer just reducing the dimensionality to the regression output\n",
    "def Output():\n",
    "    model.add(Dense(model_parameter['output dimensions'],name='OutputLayer'))\n",
    "    model.add(LeakyReLU(-1,name='OutputActivation'))\n",
    "# assemble network\n",
    "Input()\n",
    "Core()\n",
    "Output()\n",
    "# print the model properties\n",
    "model.summary()"
   ]
  },
  {
   "cell_type": "code",
   "execution_count": 5,
   "metadata": {
    "scrolled": true
   },
   "outputs": [],
   "source": [
    "# define loss\n",
    "import tensorflow.keras.backend as K\n",
    "\n",
    "def loss(upper_bound,lower_bound,prediction):\n",
    "    mask = K.minimum(0.,upper_bound)+1.\n",
    "    error = mask * (K.maximum(0.,prediction-upper_bound) +\\\n",
    "                        K.minimum(0.,prediction-lower_bound))\n",
    "    return error\n",
    "    \n",
    "def customLoss(y_true, y_pred):\n",
    "    output_dimensions = model_parameter['output dimensions']\n",
    "    upper_bound = y_true[:,:,:output_dimensions]\n",
    "    lower_bound = y_true[:,:,output_dimensions:2*output_dimensions]\n",
    "    return loss(upper_bound,lower_bound,y_pred)\n",
    "\n",
    "optimizer = keras.optimizers.Adam(training_parameter['learning rate'])\n",
    "model.compile(loss=customLoss, optimizer=optimizer)"
   ]
  },
  {
   "cell_type": "code",
   "execution_count": 6,
   "metadata": {},
   "outputs": [],
   "source": [
    "# prepare data"
   ]
  },
  {
   "cell_type": "code",
   "execution_count": 7,
   "metadata": {},
   "outputs": [],
   "source": [
    "# train"
   ]
  },
  {
   "cell_type": "code",
   "execution_count": 8,
   "metadata": {},
   "outputs": [],
   "source": [
    "# evaluate"
   ]
  }
 ],
 "metadata": {
  "kernelspec": {
   "display_name": "Python 3",
   "language": "python",
   "name": "python3"
  },
  "language_info": {
   "codemirror_mode": {
    "name": "ipython",
    "version": 3
   },
   "file_extension": ".py",
   "mimetype": "text/x-python",
   "name": "python",
   "nbconvert_exporter": "python",
   "pygments_lexer": "ipython3",
   "version": "3.6.7"
  }
 },
 "nbformat": 4,
 "nbformat_minor": 2
}
